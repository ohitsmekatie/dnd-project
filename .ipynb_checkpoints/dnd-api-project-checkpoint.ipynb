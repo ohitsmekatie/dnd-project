{
 "cells": [
  {
   "cell_type": "code",
   "execution_count": 17,
   "metadata": {},
   "outputs": [
    {
     "name": "stdout",
     "output_type": "stream",
     "text": [
      "What spell description would you like to look up: Arcane Hand\n",
      "\n",
      "You create a Large hand of shimmering, translucent force in an unoccupied space that you can see within range. The hand lasts for the spell's duration, and it moves at your command, mimicking the movements of your own hand.\n",
      "\n"
     ]
    },
    {
     "ename": "TypeError",
     "evalue": "'int' object is not subscriptable",
     "output_type": "error",
     "traceback": [
      "\u001b[0;31m---------------------------------------------------------------------------\u001b[0m",
      "\u001b[0;31mTypeError\u001b[0m                                 Traceback (most recent call last)",
      "\u001b[0;32m<ipython-input-17-19cadf3dad0a>\u001b[0m in \u001b[0;36m<module>\u001b[0;34m\u001b[0m\n\u001b[1;32m     57\u001b[0m \u001b[0;34m\u001b[0m\u001b[0m\n\u001b[1;32m     58\u001b[0m \u001b[0;34m\u001b[0m\u001b[0m\n\u001b[0;32m---> 59\u001b[0;31m \u001b[0mmain\u001b[0m\u001b[0;34m(\u001b[0m\u001b[0;34m)\u001b[0m\u001b[0;34m\u001b[0m\u001b[0;34m\u001b[0m\u001b[0m\n\u001b[0m",
      "\u001b[0;32m<ipython-input-17-19cadf3dad0a>\u001b[0m in \u001b[0;36mmain\u001b[0;34m()\u001b[0m\n\u001b[1;32m     54\u001b[0m     \u001b[0muser_spell\u001b[0m \u001b[0;34m=\u001b[0m \u001b[0mget_user_spell\u001b[0m\u001b[0;34m(\u001b[0m\u001b[0;34m)\u001b[0m\u001b[0;34m\u001b[0m\u001b[0;34m\u001b[0m\u001b[0m\n\u001b[1;32m     55\u001b[0m     \u001b[0mprint\u001b[0m\u001b[0;34m(\u001b[0m\u001b[0;34m)\u001b[0m\u001b[0;34m\u001b[0m\u001b[0;34m\u001b[0m\u001b[0m\n\u001b[0;32m---> 56\u001b[0;31m     \u001b[0mprint_spell_description\u001b[0m\u001b[0;34m(\u001b[0m\u001b[0muser_spell\u001b[0m\u001b[0;34m)\u001b[0m\u001b[0;34m\u001b[0m\u001b[0;34m\u001b[0m\u001b[0m\n\u001b[0m\u001b[1;32m     57\u001b[0m \u001b[0;34m\u001b[0m\u001b[0m\n\u001b[1;32m     58\u001b[0m \u001b[0;34m\u001b[0m\u001b[0m\n",
      "\u001b[0;32m<ipython-input-17-19cadf3dad0a>\u001b[0m in \u001b[0;36mprint_spell_description\u001b[0;34m(user_input)\u001b[0m\n\u001b[1;32m     40\u001b[0m     \u001b[0mprint\u001b[0m\u001b[0;34m(\u001b[0m\u001b[0mget_spell_url\u001b[0m\u001b[0;34m(\u001b[0m\u001b[0muser_input\u001b[0m\u001b[0;34m)\u001b[0m\u001b[0;34m[\u001b[0m\u001b[0;34m\"desc\"\u001b[0m\u001b[0;34m]\u001b[0m\u001b[0;34m[\u001b[0m\u001b[0;36m0\u001b[0m\u001b[0;34m]\u001b[0m\u001b[0;34m)\u001b[0m\u001b[0;34m\u001b[0m\u001b[0;34m\u001b[0m\u001b[0m\n\u001b[1;32m     41\u001b[0m     \u001b[0mprint\u001b[0m\u001b[0;34m(\u001b[0m\u001b[0;34m)\u001b[0m\u001b[0;34m\u001b[0m\u001b[0;34m\u001b[0m\u001b[0m\n\u001b[0;32m---> 42\u001b[0;31m     \u001b[0mprint\u001b[0m\u001b[0;34m(\u001b[0m\u001b[0;34m\"It is a level\"\u001b[0m\u001b[0;34m,\u001b[0m \u001b[0mget_spell_url\u001b[0m\u001b[0;34m(\u001b[0m\u001b[0muser_input\u001b[0m\u001b[0;34m)\u001b[0m\u001b[0;34m[\u001b[0m\u001b[0;34m\"level\"\u001b[0m\u001b[0;34m]\u001b[0m\u001b[0;34m[\u001b[0m\u001b[0;36m0\u001b[0m\u001b[0;34m]\u001b[0m\u001b[0;34m,\u001b[0m \u001b[0;34m\"spell\"\u001b[0m\u001b[0;34m)\u001b[0m\u001b[0;34m\u001b[0m\u001b[0;34m\u001b[0m\u001b[0m\n\u001b[0m\u001b[1;32m     43\u001b[0m     \u001b[0mprint\u001b[0m\u001b[0;34m(\u001b[0m\u001b[0;34m)\u001b[0m\u001b[0;34m\u001b[0m\u001b[0;34m\u001b[0m\u001b[0m\n\u001b[1;32m     44\u001b[0m     \u001b[0mprint\u001b[0m\u001b[0;34m(\u001b[0m\u001b[0;34m\"The casting time for the spell is\"\u001b[0m\u001b[0;34m,\u001b[0m \u001b[0mget_spell_url\u001b[0m\u001b[0;34m(\u001b[0m\u001b[0muser_input\u001b[0m\u001b[0;34m)\u001b[0m\u001b[0;34m[\u001b[0m\u001b[0;34m\"casting_time\"\u001b[0m\u001b[0;34m]\u001b[0m\u001b[0;34m)\u001b[0m\u001b[0;34m\u001b[0m\u001b[0;34m\u001b[0m\u001b[0m\n",
      "\u001b[0;31mTypeError\u001b[0m: 'int' object is not subscriptable"
     ]
    }
   ],
   "source": [
    "# TODO: next week \n",
    "# show menu to users of available COOOOOOOL spell information (desc, range, damage, casting time)\n",
    "# give users the option to choose said spell characteristic \n",
    "# print out the given user option for spell \n",
    "\n",
    "# TODO: eventual cleanup and other things \n",
    "# add docstrings \n",
    "# add better comments \n",
    "# validation idea: make everything lowercase in the payload if that's possible? .lower() works on strings at the very least \n",
    "# validation idea 2: if we can't find their spell ask them again (or not if they are done)\n",
    "# make functions extendable so we can do things beyond spells \n",
    "\n",
    "import json, requests \n",
    "\n",
    "# base URL for dnd5e API\n",
    "BASE_URL = \"https://www.dnd5eapi.co\"\n",
    "\n",
    "\n",
    "def make_api_request(url):\n",
    "    '''a function that, given a url, makes an API request and returns payload'''\n",
    "    response = requests.get(url)\n",
    "    payload = json.loads(response.text)\n",
    "    return payload \n",
    "\n",
    "\n",
    "def get_spell_url(user_input):\n",
    "    json_data = make_api_request(BASE_URL + \"/api/spells\")\n",
    "    for result in json_data[\"results\"]:\n",
    "        if result[\"name\"] == user_input:\n",
    "            # returns the endpoint for the specific spell URL from the user's input \n",
    "            return make_api_request(BASE_URL + result[\"url\"])  \n",
    "        \n",
    "\n",
    "def get_user_spell():\n",
    "    user_spell_input = input(\"What spell description would you like to look up: \")\n",
    "    return user_spell_input\n",
    "\n",
    "\n",
    "def print_spell_description(user_input):\n",
    "    print(get_spell_url(user_input)[\"desc\"][0])\n",
    "    print()\n",
    "    print(\"It is a level\", get_spell_url(user_input)[\"level\"], \"spell\")\n",
    "    print()\n",
    "    print(\"The casting time for the spell is\", get_spell_url(user_input)[\"casting_time\"])\n",
    "    print()\n",
    "    print(\"The range for this spell is\", get_spell_url(user_input)[\"range\"])\n",
    "    print()\n",
    "    print(\"The duration of this spell: \", get_spell_url(user_input)[\"duration\"])\n",
    "    print()\n",
    "    print(\"These are the materials you need: \", get_spell_url(user_input)[\"material\"] )\n",
    "\n",
    "\n",
    "def main():\n",
    "    user_spell = get_user_spell()\n",
    "    print()\n",
    "    print_spell_description(user_spell) \n",
    "\n",
    "    \n",
    "main()"
   ]
  },
  {
   "cell_type": "code",
   "execution_count": null,
   "metadata": {},
   "outputs": [],
   "source": []
  },
  {
   "cell_type": "code",
   "execution_count": null,
   "metadata": {},
   "outputs": [],
   "source": []
  }
 ],
 "metadata": {
  "kernelspec": {
   "display_name": "Python 3",
   "language": "python",
   "name": "python3"
  },
  "language_info": {
   "codemirror_mode": {
    "name": "ipython",
    "version": 3
   },
   "file_extension": ".py",
   "mimetype": "text/x-python",
   "name": "python",
   "nbconvert_exporter": "python",
   "pygments_lexer": "ipython3",
   "version": "3.8.3"
  }
 },
 "nbformat": 4,
 "nbformat_minor": 4
}
