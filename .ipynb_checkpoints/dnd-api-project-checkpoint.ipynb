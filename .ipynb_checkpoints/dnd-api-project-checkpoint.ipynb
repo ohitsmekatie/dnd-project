{
 "cells": [
  {
   "cell_type": "code",
   "execution_count": 8,
   "metadata": {},
   "outputs": [
    {
     "name": "stdout",
     "output_type": "stream",
     "text": [
      "What spell would you like to look up: aid\n",
      "{'index': 'aid', 'name': 'Aid', 'desc': [\"Your spell bolsters your allies with toughness and resolve. Choose up to three creatures within range. Each target's hit point maximum and current hit points increase by 5 for the duration.\"], 'higher_level': [\"When you cast this spell using a spell slot of 3rd level or higher, a target's hit points increase by an additional 5 for each slot level above 2nd.\"], 'range': '30 feet', 'components': ['V', 'S', 'M'], 'material': 'A tiny strip of white cloth.', 'ritual': False, 'duration': '8 hours', 'concentration': False, 'casting_time': '1 action', 'level': 2, 'heal_at_slot_level': {'2': '5', '3': '10', '4': '15', '5': '20', '6': '25', '7': '30', '8': '35', '9': '40'}, 'school': {'index': 'abjuration', 'name': 'Abjuration', 'url': '/api/magic-schools/abjuration'}, 'classes': [{'index': 'cleric', 'name': 'Cleric', 'url': '/api/classes/cleric'}, {'index': 'paladin', 'name': 'Paladin', 'url': '/api/classes/paladin'}], 'subclasses': [{'index': 'lore', 'name': 'Lore', 'url': '/api/subclasses/lore'}], 'url': '/api/spells/aid'}\n",
      "\n",
      "Your spell bolsters your allies with toughness and resolve. Choose up to three creatures within range. Each target's hit point maximum and current hit points increase by 5 for the duration.\n",
      "\n",
      "Spell level : 2\n",
      "\n",
      "Spell casting_time : 1 action\n",
      "\n",
      "Spell range : 30 feet\n",
      "\n",
      "Spell duration : 8 hours\n",
      "\n",
      "Spell material : A tiny strip of white cloth.\n"
     ]
    }
   ],
   "source": [
    "# TODO\n",
    "# do we want to abstract the spell check to check if there's not a description or material or whatever \n",
    "# longer term expand it to characters or other things in the API to look up \n",
    "# flask \n",
    "\n",
    "import json, requests, sys \n",
    "\n",
    "# base URL for dnd5e API\n",
    "BASE_URL = \"https://www.dnd5eapi.co\"\n",
    "USER_INPUT = input(\"What spell would you like to look up: \")\n",
    "\n",
    "\n",
    "def make_api_request(url):\n",
    "    '''a function that, given a url, makes an API request and returns payload'''\n",
    "    response = requests.get(url)\n",
    "    payload = json.loads(response.text)\n",
    "    #print(response.status_code)\n",
    "    return payload \n",
    "\n",
    "            \n",
    "def get_all_spells():\n",
    "    # the output of this is all the spells that we have available \n",
    "    return make_api_request(BASE_URL + \"/api/spells\")\n",
    "\n",
    "\n",
    "def retrieve_user_spell(all_spells):\n",
    "    matching_spell = list(filter(get_spell_info, all_spells[\"results\"]))\n",
    "    if len(matching_spell) == 0:\n",
    "        print(\"Sorry, we couldn't find that spell.\")\n",
    "    else: \n",
    "        spell_url = matching_spell[0][\"url\"]\n",
    "        return make_api_request(BASE_URL + spell_url)\n",
    "\n",
    "\n",
    "def get_spell_info(singular_spell_dict):    \n",
    "    if USER_INPUT.lower() in singular_spell_dict[\"name\"].lower():\n",
    "        return True\n",
    "    else:\n",
    "        return False \n",
    "    \n",
    "def do_key_check(spell, key):\n",
    "    if key in spell.keys():\n",
    "        format_key_exists(key, spell[key])\n",
    "    else: \n",
    "        format_key_not_exists(key)\n",
    "\n",
    "def format_key_exists(key, value):\n",
    "    print()\n",
    "    if key == 'desc':\n",
    "        print(\"Spell Description:\", value[0])\n",
    "    else: \n",
    "        print(\"Spell\", key, \":\" , value)\n",
    "\n",
    "\n",
    "def format_key_not_exists(key):\n",
    "    print()\n",
    "    print(\"Spell\", key, \": Does not exist\")\n",
    "    \n",
    "def print_spell_description(spell):\n",
    "    if spell:\n",
    "        list_items = ['desc', 'level', 'casting_time', 'range', 'duration', 'material']\n",
    "        for item in list_items:\n",
    "            do_key_check(spell, item)\n",
    "        \n",
    "def main():\n",
    "    \n",
    "    \n",
    "    final_spell = retrieve_user_spell(get_all_spells())    \n",
    "\n",
    "    print_spell_description(final_spell)\n",
    "\n",
    "\n",
    "    \n",
    "main()"
   ]
  },
  {
   "cell_type": "code",
   "execution_count": null,
   "metadata": {},
   "outputs": [],
   "source": []
  },
  {
   "cell_type": "code",
   "execution_count": null,
   "metadata": {},
   "outputs": [],
   "source": []
  },
  {
   "cell_type": "code",
   "execution_count": null,
   "metadata": {},
   "outputs": [],
   "source": []
  }
 ],
 "metadata": {
  "kernelspec": {
   "display_name": "Python 3",
   "language": "python",
   "name": "python3"
  },
  "language_info": {
   "codemirror_mode": {
    "name": "ipython",
    "version": 3
   },
   "file_extension": ".py",
   "mimetype": "text/x-python",
   "name": "python",
   "nbconvert_exporter": "python",
   "pygments_lexer": "ipython3",
   "version": "3.9.2"
  }
 },
 "nbformat": 4,
 "nbformat_minor": 4
}
