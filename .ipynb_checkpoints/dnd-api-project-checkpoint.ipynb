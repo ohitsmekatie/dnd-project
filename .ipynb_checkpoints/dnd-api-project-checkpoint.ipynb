{
 "cells": [
  {
   "cell_type": "code",
   "execution_count": null,
   "metadata": {},
   "outputs": [
    {
     "name": "stdout",
     "output_type": "stream",
     "text": [
      "What spell would you like to look up: a\n",
      "\n",
      "\n",
      "What spell would you like to look up: acid splash\n"
     ]
    }
   ],
   "source": [
    "# TODO: next week \n",
    "# show menu to users of available COOOOOOOL spell information (desc, range, damage, casting time)\n",
    "# give users the option to choose said spell characteristic \n",
    "# print out the given user option for spell \n",
    "\n",
    "# TODO: eventual cleanup and other things \n",
    "# add docstrings \n",
    "# add better comments \n",
    "# validation idea 2: if we can't find their spell ask them again (or not if they are done)\n",
    "# make functions extendable so we can do things beyond spells \n",
    "# if the API field is empty it's throwing a a key error so we probs wanna handle that later \n",
    "\n",
    "import json, requests, sys \n",
    "\n",
    "# base URL for dnd5e API\n",
    "BASE_URL = \"https://www.dnd5eapi.co\"\n",
    "\n",
    "\n",
    "def make_api_request(url):\n",
    "    '''a function that, given a url, makes an API request and returns payload'''\n",
    "    response = requests.get(url)\n",
    "    payload = json.loads(response.text)\n",
    "    #print(response.status_code)\n",
    "    return payload \n",
    "\n",
    "\n",
    "def get_spell_info(user_input):\n",
    "    json_data = make_api_request(BASE_URL + \"/api/spells\")\n",
    "    for result in json_data[\"results\"]:\n",
    "        # we are just getting back the first result\n",
    "        if user_input.lower() in result[\"name\"].lower():\n",
    "            if result[\"name\"].lower() == user_input.lower():\n",
    "                # returns the endpoint for the specific spell URL from the user's input \n",
    "                return make_api_request(BASE_URL + result[\"url\"])           \n",
    "        if user_input.lower() not in result[\"name\"].lower():\n",
    "            if result[\"name\"].lower() != user_input.lower():\n",
    "                # returns the endpoint for the specific spell URL from the user's input \n",
    "                print(\"Nope\")\n",
    "    \n",
    "def get_user_spell():\n",
    "    user_spell_input = input(\"What spell would you like to look up: \")\n",
    "    return user_spell_input\n",
    "\n",
    "\n",
    "def print_spell_description(user_input):\n",
    "    # the reason why it was failing so freqently before is bc we forgot to put lower here WHEEEEE :D \n",
    "    user_input = user_input.lower()\n",
    "    print()\n",
    "    print(get_spell_info(user_input)[\"desc\"][0])\n",
    "    print()\n",
    "    print(\"It is a level\", get_spell_info(user_input)[\"level\"], \"spell\")\n",
    "    print()\n",
    "    print(\"Spell cast time: \", get_spell_info(user_input)[\"casting_time\"])\n",
    "    print()\n",
    "    print(\"Spell range: \", get_spell_info(user_input)[\"range\"])\n",
    "    print()\n",
    "    print(\"Spell duration: \", get_spell_info(user_input)[\"duration\"])\n",
    "    print()\n",
    "    print(\"Spell material:\", get_spell_info(user_input)[\"material\"] )\n",
    "\n",
    "\n",
    "def main():\n",
    "    user_spell = get_user_spell()\n",
    "    print()\n",
    "    print_spell_description(user_spell) \n",
    "\n",
    "    \n",
    "main()"
   ]
  },
  {
   "cell_type": "code",
   "execution_count": null,
   "metadata": {},
   "outputs": [],
   "source": []
  },
  {
   "cell_type": "code",
   "execution_count": null,
   "metadata": {},
   "outputs": [],
   "source": []
  }
 ],
 "metadata": {
  "kernelspec": {
   "display_name": "Python 3",
   "language": "python",
   "name": "python3"
  },
  "language_info": {
   "codemirror_mode": {
    "name": "ipython",
    "version": 3
   },
   "file_extension": ".py",
   "mimetype": "text/x-python",
   "name": "python",
   "nbconvert_exporter": "python",
   "pygments_lexer": "ipython3",
   "version": "3.8.3"
  }
 },
 "nbformat": 4,
 "nbformat_minor": 4
}
