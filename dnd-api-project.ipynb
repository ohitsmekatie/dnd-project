{
 "cells": [
  {
   "cell_type": "code",
   "execution_count": 12,
   "metadata": {},
   "outputs": [
    {
     "name": "stdout",
     "output_type": "stream",
     "text": [
      "What spell description would you like to look up: Acid Arrow\n",
      "\n",
      "A shimmering green arrow streaks toward a target within range and bursts in a spray of acid. Make a ranged spell attack against the target. On a hit, the target takes 4d4 acid damage immediately and 2d4 acid damage at the end of its next turn. On a miss, the arrow splashes the target with acid for half as much of the initial damage and no damage at the end of its next turn.\n",
      "\n",
      "The casting time for the spell is 1 action\n",
      "\n",
      "The range for this spell is 90 feet\n"
     ]
    }
   ],
   "source": [
    "# TODO: next week \n",
    "# show menu to users of available COOOOOOOL spell information (desc, range, damage, casting time)\n",
    "# give users the option to choose said spell characteristic \n",
    "# print out the given user option for spell \n",
    "\n",
    "# TODO: eventual cleanup and other things \n",
    "# add docstrings \n",
    "# add better comments \n",
    "# validation idea: make everything lowercase in the payload if that's possible? .lower() works on strings at the very least \n",
    "# validation idea 2: if we can't find their spell ask them again (or not if they are done)\n",
    "# make functions extendable so we can do things beyond spells \n",
    "\n",
    "import json, requests \n",
    "\n",
    "# base URL for dnd5e API\n",
    "BASE_URL = \"https://www.dnd5eapi.co\"\n",
    "\n",
    "\n",
    "def make_api_request(url):\n",
    "    '''a function that, given a url, makes an API request and returns payload'''\n",
    "    response = requests.get(url)\n",
    "    payload = json.loads(response.text)\n",
    "    return payload \n",
    "\n",
    "\n",
    "def get_spell_url(user_input):\n",
    "    json_data = make_api_request(BASE_URL + \"/api/spells\")\n",
    "    for result in json_data[\"results\"]:\n",
    "        if result[\"name\"] == user_input:\n",
    "            # returns the endpoint for the specific spell URL from the user's input \n",
    "            return make_api_request(BASE_URL + result[\"url\"])  \n",
    "        \n",
    "\n",
    "def get_user_spell():\n",
    "    user_spell_input = input(\"What spell description would you like to look up: \")\n",
    "    return user_spell_input\n",
    "\n",
    "\n",
    "def print_spell_description(user_input):\n",
    "    print(get_spell_url(user_input)[\"desc\"][0])\n",
    "    print()\n",
    "    print(\"The casting time for the spell is\", get_spell_url(user_input)[\"casting_time\"])\n",
    "    print()\n",
    "    print(\"The range for this spell is\", get_spell_url(user_input)[\"range\"])\n",
    "\n",
    "\n",
    "def main():\n",
    "    user_spell = get_user_spell()\n",
    "    print()\n",
    "    print_spell_description(user_spell) \n",
    "\n",
    "    \n",
    "main()"
   ]
  },
  {
   "cell_type": "code",
   "execution_count": null,
   "metadata": {},
   "outputs": [],
   "source": []
  },
  {
   "cell_type": "code",
   "execution_count": null,
   "metadata": {},
   "outputs": [],
   "source": []
  }
 ],
 "metadata": {
  "kernelspec": {
   "display_name": "Python 3",
   "language": "python",
   "name": "python3"
  },
  "language_info": {
   "codemirror_mode": {
    "name": "ipython",
    "version": 3
   },
   "file_extension": ".py",
   "mimetype": "text/x-python",
   "name": "python",
   "nbconvert_exporter": "python",
   "pygments_lexer": "ipython3",
   "version": "3.8.3"
  }
 },
 "nbformat": 4,
 "nbformat_minor": 4
}
