{
 "cells": [
  {
   "cell_type": "code",
   "execution_count": 6,
   "metadata": {},
   "outputs": [
    {
     "name": "stdout",
     "output_type": "stream",
     "text": [
      "What spell would you like to look up: mage hand\n",
      "\n",
      "A spectral, floating hand appears at a point you choose within range. The hand lasts for the duration or until you dismiss it as an action. The hand vanishes if it is ever more than 30 feet away from you or if you cast this spell again.\n",
      "\n",
      "It is a level 0 spell\n",
      "\n",
      "Spell cast time:  1 action\n",
      "\n",
      "Spell range:  30 feet\n",
      "\n",
      "Spell duration:  1 minute\n"
     ]
    }
   ],
   "source": [
    "# TODO\n",
    "# do we want to ask them again if we can't find the spell?\n",
    "# do we want to abstract the spell check to check if there's not a description or material or whatever \n",
    "# how to not have user input be a global variables. also are they really that bad? \n",
    "# longer term expand it to characters or other things in the API to look up \n",
    "# flask \n",
    "\n",
    "import json, requests, sys \n",
    "\n",
    "# base URL for dnd5e API\n",
    "BASE_URL = \"https://www.dnd5eapi.co\"\n",
    "USER_INPUT = input(\"What spell would you like to look up: \")\n",
    "\n",
    "\n",
    "def make_api_request(url):\n",
    "    '''a function that, given a url, makes an API request and returns payload'''\n",
    "    response = requests.get(url)\n",
    "    payload = json.loads(response.text)\n",
    "    #print(response.status_code)\n",
    "    return payload \n",
    "\n",
    "            \n",
    "def get_all_spells():\n",
    "    # the output of this is all the spells that we have available \n",
    "    return make_api_request(BASE_URL + \"/api/spells\")\n",
    "\n",
    "\n",
    "def retrieve_user_spell(all_spells):\n",
    "    matching_spell = list(filter(get_spell_info, all_spells[\"results\"]))\n",
    "    if len(matching_spell) == 0:\n",
    "        print(\"Sorry, we couldn't find that spell.\")\n",
    "    else: \n",
    "        spell_url = matching_spell[0][\"url\"]\n",
    "        return make_api_request(BASE_URL + spell_url)\n",
    "\n",
    "\n",
    "def get_spell_info(singular_spell_dict):    \n",
    "    if USER_INPUT.lower() in singular_spell_dict[\"name\"].lower():\n",
    "        return True\n",
    "    else:\n",
    "        return False \n",
    "\n",
    "\n",
    "def print_spell_description(spell):\n",
    "    if spell:\n",
    "        print()\n",
    "        print(spell[\"desc\"][0])\n",
    "        print()\n",
    "        print(\"It is a level\", spell[\"level\"], \"spell\")\n",
    "        print()\n",
    "        print(\"Spell cast time: \", spell[\"casting_time\"])\n",
    "        print()\n",
    "        print(\"Spell range: \", spell[\"range\"])\n",
    "        print()\n",
    "        print(\"Spell duration: \", spell[\"duration\"])\n",
    "    \n",
    "\n",
    "def main():\n",
    "    \n",
    "    \n",
    "    final_spell = retrieve_user_spell(get_all_spells())\n",
    "    \n",
    "    print_spell_description(final_spell)\n",
    "    \n",
    "\n",
    "    \n",
    "main()"
   ]
  },
  {
   "cell_type": "code",
   "execution_count": null,
   "metadata": {},
   "outputs": [],
   "source": []
  },
  {
   "cell_type": "code",
   "execution_count": null,
   "metadata": {},
   "outputs": [],
   "source": []
  },
  {
   "cell_type": "code",
   "execution_count": null,
   "metadata": {},
   "outputs": [],
   "source": []
  }
 ],
 "metadata": {
  "kernelspec": {
   "display_name": "Python 3",
   "language": "python",
   "name": "python3"
  },
  "language_info": {
   "codemirror_mode": {
    "name": "ipython",
    "version": 3
   },
   "file_extension": ".py",
   "mimetype": "text/x-python",
   "name": "python",
   "nbconvert_exporter": "python",
   "pygments_lexer": "ipython3",
   "version": "3.8.3"
  }
 },
 "nbformat": 4,
 "nbformat_minor": 4
}
